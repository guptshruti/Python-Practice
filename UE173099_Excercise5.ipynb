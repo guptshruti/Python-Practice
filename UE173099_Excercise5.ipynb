{
 "cells": [
  {
   "cell_type": "code",
   "execution_count": 11,
   "metadata": {},
   "outputs": [
    {
     "name": "stdout",
     "output_type": "stream",
     "text": [
      "true if numpy array is nonzero and false if numpy array is zero:\n",
      "for array a:  True\n",
      "for array b:  False\n"
     ]
    }
   ],
   "source": [
    "#question 1\n",
    "#Create a function to check whether numpy array has Zero values or not.\n",
    "\n",
    "import numpy as np\n",
    "a=np.array([1,3,5,7,9])\n",
    "b=np.array([0,0,0,0,0])\n",
    "print(\"true if numpy array is nonzero and false if numpy array is zero:\")\n",
    "print(\"for array a: \", np.any(a))\n",
    "print(\"for array b: \", np.any(b))"
   ]
  },
  {
   "cell_type": "code",
   "execution_count": 75,
   "metadata": {},
   "outputs": [
    {
     "name": "stdout",
     "output_type": "stream",
     "text": [
      "[75. 45. 80. 90. 47.]\n",
      "67.4\n",
      "75.0\n"
     ]
    }
   ],
   "source": [
    "#question 2\n",
    "#Consider an array contains marks of students. Find the median and mean of students who got passing marks.\n",
    "\n",
    "marks=[75, 23, 45, 80, 38, 90, 47]\n",
    "pass_marks=np.array([])\n",
    "for i in range(0, len(marks)):\n",
    "    if (marks[i]>40):\n",
    "        pass_marks=np.append(pass_marks, marks[i])\n",
    "print(pass_marks)\n",
    "print(np.mean(pass_marks))\n",
    "print(np.median(pass_marks))\n",
    "        "
   ]
  },
  {
   "cell_type": "code",
   "execution_count": 107,
   "metadata": {},
   "outputs": [
    {
     "name": "stdout",
     "output_type": "stream",
     "text": [
      "(1999, 8, 29)\n",
      "third:  20 years\n",
      "(1998, 9, 6)\n",
      "fourth:  21 years\n",
      "(2000, 11, 21)\n",
      "second:  19 years\n",
      "(2001, 12, 4)\n",
      "first: 18 years\n"
     ]
    }
   ],
   "source": [
    "#question 3\n",
    "#Consider an array containing date of birth of students (Use np.datetime64('2018-02-01')).\n",
    "#Find the age of all students. If age is 18 label it First, if it is 19, label it Second, if it is 20, label it Third, if it is 21, label it Fourth.\n",
    "\n",
    "\n",
    "from datetime import datetime, date\n",
    "\n",
    "a=np.array(['1999-08-29', '1998-09-06', '2000-11-21', '2001-12-04'], dtype='datetime64')\n",
    "\n",
    "for i in a:\n",
    "    z=i.item()\n",
    "    day=z.day\n",
    "    month=z.month\n",
    "    year=z.year\n",
    "    birth_date=(year, month, day)\n",
    "    print(birth_date)\n",
    "    \n",
    "    t= date.today() \n",
    "    age=t.year-year-((t.month, t.day)<(month, day)) \n",
    "#     print(age, \"years\")\n",
    "    if (age==18):\n",
    "        print(\"first:\", age, \"years\")\n",
    "    elif (age==19):\n",
    "        print(\"second: \", age, \"years\")\n",
    "    elif (age==20):\n",
    "        print(\"third: \", age, \"years\")\n",
    "    elif (age==21):\n",
    "        print(\"fourth: \", age, \"years\")\n",
    "    "
   ]
  },
  {
   "cell_type": "code",
   "execution_count": 1,
   "metadata": {},
   "outputs": [
    {
     "ename": "NameError",
     "evalue": "name 'np' is not defined",
     "output_type": "error",
     "traceback": [
      "\u001b[0;31m---------------------------------------------------------------------------\u001b[0m",
      "\u001b[0;31mNameError\u001b[0m                                 Traceback (most recent call last)",
      "\u001b[0;32m<ipython-input-1-a390c17b17f7>\u001b[0m in \u001b[0;36m<module>\u001b[0;34m\u001b[0m\n\u001b[1;32m      2\u001b[0m \u001b[0;31m# create a function to sort 2d array by a column\u001b[0m\u001b[0;34m\u001b[0m\u001b[0;34m\u001b[0m\u001b[0;34m\u001b[0m\u001b[0m\n\u001b[1;32m      3\u001b[0m \u001b[0;34m\u001b[0m\u001b[0m\n\u001b[0;32m----> 4\u001b[0;31m \u001b[0ma\u001b[0m\u001b[0;34m=\u001b[0m\u001b[0mnp\u001b[0m\u001b[0;34m.\u001b[0m\u001b[0marray\u001b[0m\u001b[0;34m(\u001b[0m\u001b[0;34m[\u001b[0m\u001b[0;34m[\u001b[0m\u001b[0;36m72\u001b[0m\u001b[0;34m,\u001b[0m \u001b[0;36m42\u001b[0m\u001b[0;34m,\u001b[0m \u001b[0;36m23\u001b[0m\u001b[0;34m]\u001b[0m\u001b[0;34m,\u001b[0m \u001b[0;34m[\u001b[0m\u001b[0;36m37\u001b[0m\u001b[0;34m,\u001b[0m \u001b[0;36m15\u001b[0m\u001b[0;34m,\u001b[0m \u001b[0;36m66\u001b[0m\u001b[0;34m]\u001b[0m\u001b[0;34m,\u001b[0m \u001b[0;34m[\u001b[0m\u001b[0;36m34\u001b[0m\u001b[0;34m,\u001b[0m \u001b[0;36m18\u001b[0m\u001b[0;34m,\u001b[0m \u001b[0;36m29\u001b[0m\u001b[0;34m]\u001b[0m\u001b[0;34m]\u001b[0m\u001b[0;34m)\u001b[0m\u001b[0;34m\u001b[0m\u001b[0;34m\u001b[0m\u001b[0m\n\u001b[0m\u001b[1;32m      5\u001b[0m \u001b[0;34m\u001b[0m\u001b[0m\n\u001b[1;32m      6\u001b[0m \u001b[0mprint\u001b[0m\u001b[0;34m(\u001b[0m\u001b[0;34m\"on basis of last column:-\"\u001b[0m\u001b[0;34m)\u001b[0m\u001b[0;34m\u001b[0m\u001b[0;34m\u001b[0m\u001b[0m\n",
      "\u001b[0;31mNameError\u001b[0m: name 'np' is not defined"
     ]
    }
   ],
   "source": [
    "#question 4\n",
    "# create a function to sort 2d array by a column\n",
    "\n",
    "a=np.array([[72, 42, 23], [37, 15, 66], [34, 18, 29]])\n",
    "\n",
    "print(\"on basis of last column:-\")\n",
    "#sorting the array by last column\n",
    "b=np.argsort(a[:,-1])\n",
    "print(a)\n",
    "print(\"----sorted array is------------\")\n",
    "print(a[b])\n",
    "print(\"on basis of first column:-\")\n",
    "\n",
    "\n",
    "#sorting by first column by changing the column index\n",
    "b=np.argsort(a[:,0])\n",
    "print(a)\n",
    "print(\"------sorted array is----------\")\n",
    "print(a[b])"
   ]
  }
 ],
 "metadata": {
  "kernelspec": {
   "display_name": "Python 3",
   "language": "python",
   "name": "python3"
  },
  "language_info": {
   "codemirror_mode": {
    "name": "ipython",
    "version": 3
   },
   "file_extension": ".py",
   "mimetype": "text/x-python",
   "name": "python",
   "nbconvert_exporter": "python",
   "pygments_lexer": "ipython3",
   "version": "3.6.9"
  }
 },
 "nbformat": 4,
 "nbformat_minor": 4
}

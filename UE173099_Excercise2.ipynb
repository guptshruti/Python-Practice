{
 "cells": [
  {
   "cell_type": "code",
   "execution_count": 1,
   "metadata": {},
   "outputs": [],
   "source": [
    "import random"
   ]
  },
  {
   "cell_type": "code",
   "execution_count": 2,
   "metadata": {},
   "outputs": [
    {
     "name": "stdout",
     "output_type": "stream",
     "text": [
      "['we', 'are', 'doing', 'scrambling', 'of', 'words']\n"
     ]
    }
   ],
   "source": [
    "str1= \"we are doing scrambling of words\"\n",
    "test= str1.split()\n",
    "print(test)"
   ]
  },
  {
   "cell_type": "code",
   "execution_count": 3,
   "metadata": {},
   "outputs": [
    {
     "name": "stdout",
     "output_type": "stream",
     "text": [
      "we\n",
      "are\n",
      "doing\n",
      "srlmbcniag\n",
      "of\n",
      "wrdos\n"
     ]
    }
   ],
   "source": [
    "punctuation=(\"'\", \"!\", \"?\", \",\", \".\", \":\", \";\") \n",
    "for word in test:\n",
    "    if len(word)>3:\n",
    "        if word.endswith(punctuation):\n",
    "            first_word=word[1:-2]\n",
    "            shuffling_list= list(first_word)\n",
    "            random.shuffle(shuffling_list)\n",
    "            shuffling_list.insert(0, word[0])\n",
    "            shuffling_list.append(word[-2])\n",
    "            shuffling_list.append(word[-1])\n",
    "            first_word= ''.join(shuffling_list)\n",
    "            print(first_word)\n",
    "        else:\n",
    "            first_word= word[1:-1]\n",
    "            shuffling_list= list(first_word)\n",
    "            random.shuffle(shuffling_list)\n",
    "            shuffling_list.insert(0, word[0])\n",
    "            shuffling_list.append(word[-1])\n",
    "            first_word= ''.join(shuffling_list)\n",
    "            print(first_word)\n",
    "        \n",
    "    else:\n",
    "        print(word)"
   ]
  }
 ],
 "metadata": {
  "kernelspec": {
   "display_name": "Python 3",
   "language": "python",
   "name": "python3"
  },
  "language_info": {
   "codemirror_mode": {
    "name": "ipython",
    "version": 3
   },
   "file_extension": ".py",
   "mimetype": "text/x-python",
   "name": "python",
   "nbconvert_exporter": "python",
   "pygments_lexer": "ipython3",
   "version": "3.6.9"
  }
 },
 "nbformat": 4,
 "nbformat_minor": 2
}

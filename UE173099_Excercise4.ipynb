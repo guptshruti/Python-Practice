{
 "cells": [
  {
   "cell_type": "code",
   "execution_count": 11,
   "metadata": {},
   "outputs": [
    {
     "name": "stdout",
     "output_type": "stream",
     "text": [
      "Given tuple is: \n",
      "[('Tom', 19, 80), ('John', 20, 90), ('Jony', 17, 91), ('Jony', 17, 93), ('Json', 21, 85)]\n",
      "Sorted tuple is: \n",
      "[('John', 20, 90), ('Jony', 17, 91), ('Jony', 17, 93), ('Json', 21, 85), ('Tom', 19, 80)]\n"
     ]
    }
   ],
   "source": [
    "#question 1\n",
    "#sort the (name, age, height) tuples by ascending order \n",
    "#sort criteria is: 1: Sort based on name; 2: Then sort based on age; 3: Then sort by score. The priority is that name > age > score.\n",
    "\n",
    "t=[(\"Tom\", 19, 80), (\"John\", 20, 90), (\"Jony\", 17, 91), (\"Jony\", 17, 93), (\"Json\", 21, 85)]\n",
    "print(\"Given tuple is: \")\n",
    "print(t)\n",
    "def Sort_Tuple(t):  \n",
    "    t.sort(key = lambda x: (x[0], x[1], x[2]))\n",
    "    return t\n",
    "print(\"Sorted tuple is: \")\n",
    "print(Sort_Tuple(t)) "
   ]
  },
  {
   "cell_type": "code",
   "execution_count": 31,
   "metadata": {},
   "outputs": [
    {
     "name": "stdout",
     "output_type": "stream",
     "text": [
      "I felt happy because I saw the others were happy and because I knew I should feel happy, but I wasn’t really happy\n",
      "frequency of I is:  5\n",
      "frequency of felt is:  1\n",
      "frequency of happy is:  4\n",
      "frequency of because is:  2\n",
      "frequency of saw is:  1\n",
      "frequency of the is:  2\n",
      "frequency of others is:  1\n",
      "frequency of were is:  1\n",
      "frequency of and is:  1\n",
      "frequency of knew is:  1\n",
      "frequency of should is:  1\n",
      "frequency of feel is:  1\n",
      "frequency of happy, is:  1\n",
      "frequency of but is:  1\n",
      "frequency of wasn’t is:  1\n",
      "frequency of really is:  1\n"
     ]
    }
   ],
   "source": [
    "#question 2\n",
    "#Calculate Word Frequencies\n",
    "\n",
    "sentence = \"\"\"I felt happy because I saw the others were happy and because I knew I should feel happy, but I wasn’t really happy\"\"\"\n",
    "print(sentence)\n",
    "words= sentence.split()\n",
    "#print(words)\n",
    "new_list=[]\n",
    "for word in words:\n",
    "    if word not in new_list:\n",
    "        new_list.append(word)\n",
    "for i in range (0, len(new_list)) :\n",
    "    print( 'frequency of', new_list[i], 'is: ', sentence.count(new_list[i]))\n",
    "#print(new_list)\n",
    "    "
   ]
  },
  {
   "cell_type": "code",
   "execution_count": 87,
   "metadata": {},
   "outputs": [
    {
     "name": "stdout",
     "output_type": "stream",
     "text": [
      "UE183001 Avish scored a total of: 184\n",
      "UE183002 Bhavya scored a total of: 138\n",
      "UE183003 Tanya scored a total of: 165\n",
      "UE183004 Animesh scored a total of: 165\n",
      "UE183005 Tripta scored a total of: 135\n",
      "UE183006 Tanvir scored a total of: 137\n",
      "UE183007 Aamya scored a total of: 147\n",
      "UE183008 Somesh scored a total of: 179\n",
      "UE183009 Anant scored a total of: 119\n",
      "UE183010 Ananya scored a total of: 115\n",
      "UE183011 Bobby scored a total of: 125\n",
      "UE183012 Zahir scored a total of: 169\n"
     ]
    }
   ],
   "source": [
    "#question 3\n",
    "# result calculation\n",
    "\n",
    "#database of marks of students for maths and CS\n",
    "\n",
    "Student = { 'UE183001': 'Avish',\n",
    "           'UE183002': 'Bhavya',\n",
    "           'UE183003': 'Tanya',\n",
    "           'UE183004': 'Animesh',\n",
    "           'UE183005': 'Tripta', \n",
    "           'UE183006': 'Tanvir',\n",
    "           'UE183007': 'Aamya',\n",
    "           'UE183008': 'Somesh',\n",
    "           'UE183009': 'Anant', \n",
    "           'UE183010': 'Ananya',\n",
    "           'UE183011': 'Bobby',\n",
    "           'UE183012': 'Zahir'} \n",
    "Marks = [('UE183001', 'CS', 94 ),\n",
    "         ('UE183002', 'CS', 64 ),\n",
    "         ('UE183003', 'CS', 85 ),\n",
    "         ('UE183004', 'CS', 70 ), \n",
    "         ('UE183005', 'CS', 55 ),\n",
    "         ('UE183006', 'CS', 67 ),\n",
    "         ('UE183007', 'CS', 87 ), \n",
    "         ('UE183008', 'CS', 89 ), \n",
    "         ('UE183009', 'CS', 64 ),\n",
    "         ('UE183010', 'CS', 40 ), \n",
    "         ('UE183011', 'CS', 80 ), \n",
    "         ('UE183012', 'CS', 75 ),\n",
    "         ('UE183001', 'Maths', 90),\n",
    "         ('UE183002', 'Maths', 74), \n",
    "         ('UE183003', 'Maths', 80),\n",
    "         ('UE183004', 'Maths', 95),\n",
    "         ('UE183005', 'Maths', 80), \n",
    "         ('UE183006', 'Maths', 70), \n",
    "         ('UE183007', 'Maths', 60), \n",
    "         ('UE183008', 'Maths', 90),\n",
    "         ('UE183009', 'Maths', 55), \n",
    "         ('UE183010', 'Maths', 75), \n",
    "         ('UE183011', 'Maths', 45), \n",
    "         ('UE183012', 'Maths', 94)]\n",
    "\n",
    "#driver code\n",
    "\n",
    "for key in Student:\n",
    "    sum=0\n",
    "    for i in range (0, len(Marks)):\n",
    "        if Marks[i][0]==key:\n",
    "            sum=sum+Marks[i][2]\n",
    "    print(key, Student[key], 'scored a total of:',sum)\n"
   ]
  },
  {
   "cell_type": "code",
   "execution_count": 104,
   "metadata": {
    "scrolled": true
   },
   "outputs": [
    {
     "name": "stdout",
     "output_type": "stream",
     "text": [
      "enter the date(DD-MMM-YY):29-Aug-99\n",
      "['29', 'Aug', '99']\n",
      "new arranged date in y-m-d manner:  ['99', 8, '29']\n"
     ]
    }
   ],
   "source": [
    "#question 4\n",
    "#The function will accept a date in the \"dd-MMM-yy\" format and respond with a tuple of ( y , m , d ).\n",
    "\n",
    "old_date= input(\"enter the date(DD-MMM-YY):\")\n",
    "def month_converter(month):\n",
    "    months = ['Jan', 'Feb', 'Mar', 'Apr', 'May', 'Jun', 'Jul', 'Aug', 'Sep', 'Oct', 'Nov', 'Dec']\n",
    "    return months.index(month) + 1\n",
    "new_date= old_date.split('-')\n",
    "print(new_date)\n",
    "a=new_date[0]\n",
    "new_date[0]=new_date[2]\n",
    "new_date[2]=a\n",
    "new_date[1]=month_converter(new_date[1])\n",
    "print(\"new arranged date in y-m-d manner: \", new_date)"
   ]
  },
  {
   "cell_type": "code",
   "execution_count": 160,
   "metadata": {},
   "outputs": [
    {
     "name": "stdout",
     "output_type": "stream",
     "text": [
      "{2: [(1, 1)], 3: [(1, 2), (2, 1)], 4: [(1, 3), (2, 2), (3, 1)], 5: [(1, 4), (2, 3), (3, 2), (4, 1)], 6: [(1, 5), (2, 4), (3, 3), (4, 2), (5, 1)], 7: [(1, 6), (2, 5), (3, 4), (4, 3), (5, 2), (6, 1)], 8: [(2, 6), (3, 5), (4, 4), (5, 3), (6, 2)], 9: [(3, 6), (4, 5), (5, 4), (6, 3)], 10: [(4, 6), (5, 5), (6, 4)], 11: [(5, 6), (6, 5)], 12: [(6, 6)]}\n"
     ]
    }
   ],
   "source": [
    "#question 5\n",
    "\n",
    "\n",
    "my_dict = {}\n",
    "\n",
    "for i in range(1,7):\n",
    " for j in range(1,7):\n",
    "  key = i+j\n",
    "  if key in my_dict: # CHECK if the key is present in the dictionary\n",
    "   # print(\"Updating key \" + str(key))\n",
    "   tuples = my_dict[i+j] # Get the list of values \n",
    "   tuples.append((i,j))  # Update this list\n",
    "   # print(tuples)\n",
    "   my_dict.update({key : tuples}) # Now update\n",
    "  else:\n",
    "   # print(\"Making key \" + str(key))\n",
    "   my_dict[key] = [(i,j)]\n",
    "\n",
    "\n",
    "print(my_dict)"
   ]
  }
 ],
 "metadata": {
  "kernelspec": {
   "display_name": "Python 3",
   "language": "python",
   "name": "python3"
  },
  "language_info": {
   "codemirror_mode": {
    "name": "ipython",
    "version": 3
   },
   "file_extension": ".py",
   "mimetype": "text/x-python",
   "name": "python",
   "nbconvert_exporter": "python",
   "pygments_lexer": "ipython3",
   "version": "3.6.9"
  }
 },
 "nbformat": 4,
 "nbformat_minor": 4
}

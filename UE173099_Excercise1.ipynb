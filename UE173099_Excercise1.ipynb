{
 "cells": [
  {
   "cell_type": "code",
   "execution_count": 1,
   "metadata": {},
   "outputs": [
    {
     "data": {
      "text/plain": [
       "25"
      ]
     },
     "execution_count": 1,
     "metadata": {},
     "output_type": "execute_result"
    }
   ],
   "source": [
    " 10+15"
   ]
  },
  {
   "cell_type": "code",
   "execution_count": 2,
   "metadata": {},
   "outputs": [
    {
     "name": "stdout",
     "output_type": "stream",
     "text": [
      "Hello World\n"
     ]
    }
   ],
   "source": [
    "print(\"Hello World\")"
   ]
  },
  {
   "cell_type": "code",
   "execution_count": 3,
   "metadata": {},
   "outputs": [
    {
     "data": {
      "text/plain": [
       "11"
      ]
     },
     "execution_count": 3,
     "metadata": {},
     "output_type": "execute_result"
    }
   ],
   "source": [
    "45-34"
   ]
  },
  {
   "cell_type": "code",
   "execution_count": 4,
   "metadata": {},
   "outputs": [
    {
     "data": {
      "text/plain": [
       "16"
      ]
     },
     "execution_count": 4,
     "metadata": {},
     "output_type": "execute_result"
    }
   ],
   "source": [
    "8*2"
   ]
  },
  {
   "cell_type": "code",
   "execution_count": 5,
   "metadata": {},
   "outputs": [
    {
     "name": "stdout",
     "output_type": "stream",
     "text": [
      "Rahul's age is 45\n"
     ]
    }
   ],
   "source": [
    "print(\"Rahul's age is\", 45)"
   ]
  },
  {
   "cell_type": "code",
   "execution_count": 6,
   "metadata": {},
   "outputs": [
    {
     "name": "stdout",
     "output_type": "stream",
     "text": [
      "I have 10 mangoes and 12 bananas\n"
     ]
    }
   ],
   "source": [
    "print(\"I have\", 10, \"mangoes and\", 12, \"bananas\")"
   ]
  },
  {
   "cell_type": "code",
   "execution_count": 7,
   "metadata": {},
   "outputs": [
    {
     "name": "stdout",
     "output_type": "stream",
     "text": [
      "Employee Number: 1233\n",
      "Employee Salary and Name: 16745.5 Jerry Squaris\n",
      "Updated Employee Salary: 23450.34\n"
     ]
    }
   ],
   "source": [
    "emp_number = 1233\n",
    "print(\"Employee Number:\", emp_number)\n",
    "emp_salary = 16745.50\n",
    "emp_name = \"Jerry Squaris\"\n",
    "print(\"Employee Salary and Name:\", emp_salary, emp_name)\n",
    "emp_salary = 23450.34\n",
    "print(\"Updated Employee Salary:\", emp_salary)"
   ]
  },
  {
   "cell_type": "code",
   "execution_count": 8,
   "metadata": {},
   "outputs": [
    {
     "name": "stdout",
     "output_type": "stream",
     "text": [
      "101 John 675.45\n",
      "5.3\n",
      "3.9\n"
     ]
    }
   ],
   "source": [
    "customer_id = 101\n",
    "type(customer_id)\n",
    "customer_name = \"John\"\n",
    "type(customer_name)\n",
    "bill_amount = 675.45\n",
    "type(bill_amount )\n",
    "x = 5.3 + 0.9j\n",
    "type(x)\n",
    "print(customer_id, customer_name, bill_amount)\n",
    "print(x.real)\n",
    "print(x.imag + 3)\n",
    "Flag = True\n",
    "type(Flag)\n",
    "y = \"False\""
   ]
  },
  {
   "cell_type": "code",
   "execution_count": 23,
   "metadata": {},
   "outputs": [
    {
     "name": "stdout",
     "output_type": "stream",
     "text": [
      "101 1001 Rahul False 2000.5\n"
     ]
    }
   ],
   "source": [
    "bill_id = 101\n",
    "customer_id = 1001\n",
    "customer_name = \"Rahul\"\n",
    "if_minor = False\n",
    "bill_amount = 2000.50\n",
    "print(bill_id, customer_id, customer_name, if_minor, bill_amount)"
   ]
  },
  {
   "cell_type": "code",
   "execution_count": 33,
   "metadata": {},
   "outputs": [
    {
     "name": "stdout",
     "output_type": "stream",
     "text": [
      "enter num1: 1\n",
      "1\n",
      "enter num2: 2\n",
      "2\n",
      "new num1:  5\n",
      "new num2:  8\n",
      "sum of new values of num1 and num2:  13\n"
     ]
    }
   ],
   "source": [
    "#user input num1 and num2, increase them and then add the new values of num1 and num2\n",
    "num1=input(\"enter num1: \")\n",
    "print(num1)\n",
    "num2=input(\"enter num2: \")\n",
    "print(num2)\n",
    "num1=int(num1)+4\n",
    "num2=int(num2)+6\n",
    "print(\"new num1: \", num1)\n",
    "print(\"new num2: \", num2)\n",
    "print(\"sum of new values of num1 and num2: \", num1+num2 )\n"
   ]
  },
  {
   "cell_type": "code",
   "execution_count": 39,
   "metadata": {},
   "outputs": [
    {
     "name": "stdout",
     "output_type": "stream",
     "text": [
      "new a and new b are:  5 and 4\n"
     ]
    }
   ],
   "source": [
    "#swapping a and b without using third variable\n",
    "a=4\n",
    "b=5\n",
    "a=b-a\n",
    "b=b-a\n",
    "a=a+b\n",
    "print(\"new a and new b are: \", a, \"and\", b)"
   ]
  },
  {
   "cell_type": "code",
   "execution_count": 43,
   "metadata": {},
   "outputs": [
    {
     "name": "stdout",
     "output_type": "stream",
     "text": [
      "average of marks:  79.33333333333333\n",
      "new avergae:  83.33333333333333\n"
     ]
    }
   ],
   "source": [
    "#calculating average marks of john\n",
    "comp_sc= 75\n",
    "maths=95\n",
    "phy= 68\n",
    "#average of the marks\n",
    "average= (comp_sc+maths+phy)/3\n",
    "print(\"average of marks: \", average)\n",
    " # change of marks of one subject\n",
    "phy= 80\n",
    "average= (comp_sc+maths+phy)/3\n",
    "print(\"new avergae: \", average)\n"
   ]
  },
  {
   "cell_type": "code",
   "execution_count": 45,
   "metadata": {},
   "outputs": [
    {
     "name": "stdout",
     "output_type": "stream",
     "text": [
      "area and perimeter of circle:  38.465 , 21.98\n"
     ]
    }
   ],
   "source": [
    "#calculating area and perimeter of circle\n",
    "r=3.5\n",
    "a=3.14*r*r\n",
    "p=2*3.14*r\n",
    "print(\"area and perimeter of circle: \", a, \",\", p)\n"
   ]
  },
  {
   "cell_type": "code",
   "execution_count": 52,
   "metadata": {},
   "outputs": [
    {
     "name": "stdout",
     "output_type": "stream",
     "text": [
      "Number of hours worked in a week:  40\n",
      "Pay rate per hour:  400\n",
      "No. of weeks in a month:  4\n",
      "Monthly pay of an employee:  64000\n"
     ]
    }
   ],
   "source": [
    "#calculating monthly payment of an employee by given formula\n",
    "n=40\n",
    "p=400\n",
    "N=4\n",
    "print(\"Number of hours worked in a week: \",n)\n",
    "print(\"Pay rate per hour: \",p)\n",
    "print(\"No. of weeks in a month: \", N)\n",
    "M= n*p*N\n",
    "print(\"Monthly pay of an employee: \", M)"
   ]
  },
  {
   "cell_type": "code",
   "execution_count": 58,
   "metadata": {},
   "outputs": [
    {
     "name": "stdout",
     "output_type": "stream",
     "text": [
      "50\n",
      "52\n",
      "54\n",
      "56\n",
      "58\n",
      "60\n",
      "62\n",
      "64\n",
      "66\n",
      "68\n",
      "70\n",
      "72\n",
      "74\n",
      "76\n",
      "78\n"
     ]
    }
   ],
   "source": [
    "#display the even numbers between 50 and 80 using for loop\n",
    "for n in range(50, 80):\n",
    "    if n%2 == 0:\n",
    "        print(n)\n",
    "   "
   ]
  },
  {
   "cell_type": "code",
   "execution_count": 66,
   "metadata": {},
   "outputs": [
    {
     "name": "stdout",
     "output_type": "stream",
     "text": [
      "enter the value of n: 5\n",
      "15\n"
     ]
    }
   ],
   "source": [
    "#sum of natural numbers upto n\n",
    "n= int(input(\"enter the value of n: \"))\n",
    "sum=0\n",
    "while(n>0):\n",
    "    sum=sum+n\n",
    "    n=n-1\n",
    "print(sum)"
   ]
  },
  {
   "cell_type": "code",
   "execution_count": 78,
   "metadata": {},
   "outputs": [
    {
     "name": "stdout",
     "output_type": "stream",
     "text": [
      "enter the value of n: 4\n",
      "4 is not a prime number\n"
     ]
    }
   ],
   "source": [
    "#check whether the number is prime or not\n",
    "n= int(input(\"enter the value of n: \"))\n",
    "if n> 1:\n",
    "    \n",
    "     for i in range(2,n):\n",
    "            if (n % i) == 0:\n",
    "                print(n,\"is not a prime number\")\n",
    "                break\n",
    "            else:\n",
    "                print(n,\"is a prime number\")\n",
    "    \n",
    "else:\n",
    "    print(n,\"is not a prime number\")\n",
    "    "
   ]
  },
  {
   "cell_type": "code",
   "execution_count": 103,
   "metadata": {},
   "outputs": [
    {
     "name": "stdout",
     "output_type": "stream",
     "text": [
      "enter the value of n: 7\n",
      "fibonacci series: \n",
      "0\n",
      "1\n",
      "1\n",
      "2\n",
      "3\n",
      "5\n",
      "8\n"
     ]
    }
   ],
   "source": [
    "#fibonacci series till nth term \n",
    "n= int(input(\"enter the value of n: \"))\n",
    "a=0\n",
    "b=1\n",
    "i=0\n",
    "if n==0:\n",
    "    print(\"fibonacci series: \", a)\n",
    "elif n==1:\n",
    "    print(\"fibonacci series: \", b)\n",
    "else:\n",
    "    print(\"fibonacci series: \", )\n",
    "    for i in range(0,n):\n",
    "        print(a)\n",
    "        next_term=a+b\n",
    "        a=b\n",
    "        b=next_term\n",
    "        i=i+1\n",
    "    \n",
    "\n",
    "    "
   ]
  }
 ],
 "metadata": {
  "kernelspec": {
   "display_name": "Python 3",
   "language": "python",
   "name": "python3"
  },
  "language_info": {
   "codemirror_mode": {
    "name": "ipython",
    "version": 3
   },
   "file_extension": ".py",
   "mimetype": "text/x-python",
   "name": "python",
   "nbconvert_exporter": "python",
   "pygments_lexer": "ipython3",
   "version": "3.6.9"
  }
 },
 "nbformat": 4,
 "nbformat_minor": 2
}

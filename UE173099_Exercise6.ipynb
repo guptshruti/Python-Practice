{
 "cells": [
  {
   "cell_type": "code",
   "execution_count": 25,
   "metadata": {},
   "outputs": [
    {
     "name": "stdout",
     "output_type": "stream",
     "text": [
      "[[0. 1. 0.]\n",
      " [0. 0. 1.]\n",
      " [0. 1. 0.]\n",
      " [0. 1. 0.]\n",
      " [0. 1. 0.]\n",
      " [1. 0. 0.]]\n"
     ]
    }
   ],
   "source": [
    "#question 1\n",
    "# Create one hot encoding of an array.\n",
    "\n",
    "import numpy as np\n",
    "\n",
    "a = np.array([2, 3, 2, 2, 2, 1])\n",
    "new_array= np.zeros((a.size, a.max()))\n",
    "# print(a.size)\n",
    "# print(a.max()+1)\n",
    "# print(a.max())\n",
    "# print(new_array)\n",
    "# print(a)\n",
    "new_array[np.arange(a.size),a-1] = 1\n",
    "print(new_array)"
   ]
  },
  {
   "cell_type": "code",
   "execution_count": 8,
   "metadata": {},
   "outputs": [
    {
     "name": "stdout",
     "output_type": "stream",
     "text": [
      "[1. 2. 3. 5. 6. 7.]\n"
     ]
    }
   ],
   "source": [
    "#question 2.\n",
    "#Drop all missing values from an array \n",
    "# Input: np.array([1,2,3,np.nan,5,6,7,np.nan])\n",
    "# Desired Output: array([ 1.,2.,3.,5.,6.,7.])\n",
    "import numpy as np\n",
    "\n",
    "a=np.array([1,2,3,np.nan,5,6,7,np.nan])\n",
    "new_array=a[~np.isnan(a)]\n",
    "print(new_array)\n",
    "\n"
   ]
  },
  {
   "cell_type": "code",
   "execution_count": 23,
   "metadata": {},
   "outputs": [
    {
     "name": "stdout",
     "output_type": "stream",
     "text": [
      "[1 3 7 1 2 6 0 1]\n",
      "[2. 5.]\n"
     ]
    }
   ],
   "source": [
    "#question 3\n",
    "#Find Local maxima from an array. Input: a = np.array([1, 3, 7, 1, 2, 6, 0, 1]) \n",
    "#Desired Output: array([2, 5])\n",
    "\n",
    "\n",
    "import numpy as np\n",
    "a = np.array([1, 3, 7, 1, 2, 6, 0, 1]) \n",
    "\n",
    "print(a)\n",
    "local_max = np.array([])\n",
    "for i in range(0, (len(a)-1)):\n",
    "    current=i\n",
    "    if (a[current-1]<a[current] and a[current]>a[current+1]):\n",
    "        local_max=np.append(local_max, current)   \n",
    "\n",
    "\n",
    "print (local_max)\n",
    "\n"
   ]
  },
  {
   "cell_type": "code",
   "execution_count": 49,
   "metadata": {},
   "outputs": [
    {
     "name": "stdout",
     "output_type": "stream",
     "text": [
      "[[ 0.  1.  2.  3.]\n",
      " [ 2.  3.  4.  5.]\n",
      " [ 4.  5.  6.  7.]\n",
      " [ 6.  7.  8.  9.]\n",
      " [ 8.  9. 10. 11.]\n",
      " [10. 11. 12. 13.]]\n"
     ]
    }
   ],
   "source": [
    "#quesstion 4\n",
    "#From the given 1d array arr, generate a 2d matrix using strides,\n",
    "\n",
    "#last array (n) will be= n.s+w=N\n",
    "import math\n",
    "a=np.array ([ 0,  1,  2,  3,  4,  5,  6,  7,  8,  9, 10, 11, 12, 13, 14])\n",
    "\n",
    "w= 4\n",
    "s=2\n",
    "total_arrays=math.floor((len(a)-w)/s)+1\n",
    "ans= np.ones((total_arrays,w))\n",
    "# print(ans)\n",
    "\n",
    "for i in range(total_arrays):\n",
    "    start=s*i\n",
    "    for j in range(w):\n",
    "        ans[i][j]=a[start+j]\n",
    "    \n",
    "print(ans)\n"
   ]
  }
 ],
 "metadata": {
  "kernelspec": {
   "display_name": "Python 3",
   "language": "python",
   "name": "python3"
  },
  "language_info": {
   "codemirror_mode": {
    "name": "ipython",
    "version": 3
   },
   "file_extension": ".py",
   "mimetype": "text/x-python",
   "name": "python",
   "nbconvert_exporter": "python",
   "pygments_lexer": "ipython3",
   "version": "3.6.9"
  }
 },
 "nbformat": 4,
 "nbformat_minor": 4
}
